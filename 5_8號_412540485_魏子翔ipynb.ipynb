{
  "nbformat": 4,
  "nbformat_minor": 0,
  "metadata": {
    "colab": {
      "provenance": [],
      "authorship_tag": "ABX9TyNHiuyBfgM48lhFySwikr8m",
      "include_colab_link": true
    },
    "kernelspec": {
      "name": "python3",
      "display_name": "Python 3"
    },
    "language_info": {
      "name": "python"
    }
  },
  "cells": [
    {
      "cell_type": "markdown",
      "metadata": {
        "id": "view-in-github",
        "colab_type": "text"
      },
      "source": [
        "<a href=\"https://colab.research.google.com/github/sam112233445566/Introduction-to-Computerss/blob/main/5_8%E8%99%9F_412540485_%E9%AD%8F%E5%AD%90%E7%BF%94ipynb.ipynb\" target=\"_parent\"><img src=\"https://colab.research.google.com/assets/colab-badge.svg\" alt=\"Open In Colab\"/></a>"
      ]
    },
    {
      "cell_type": "code",
      "execution_count": 1,
      "metadata": {
        "colab": {
          "base_uri": "https://localhost:8080/"
        },
        "id": "KfGnDT23doT0",
        "outputId": "b11ca5c8-600f-4c41-e45b-96354f716984"
      },
      "outputs": [
        {
          "output_type": "stream",
          "name": "stdout",
          "text": [
            "請輸入體溫：34\n",
            "體溫正常\n"
          ]
        }
      ],
      "source": [
        "def check_temperature(temperature):\n",
        "    if temperature >= 37.5:\n",
        "        print(\"體溫過高\")\n",
        "    elif 37 <= temperature < 37.5:\n",
        "        print(\"體溫略高\")\n",
        "    elif 34 <= temperature < 37:\n",
        "        print(\"體溫正常\")\n",
        "    elif temperature < 34:\n",
        "        print(\"體溫異常，請重新測量\")\n",
        "\n",
        "temperature = float(input(\"請輸入體溫：\"))\n",
        "check_temperature(temperature)"
      ]
    },
    {
      "cell_type": "code",
      "source": [
        "def check_grade(score):\n",
        "    if score >= 90:\n",
        "        grade = 'A'\n",
        "    elif 80 <= score <= 89:\n",
        "        grade = 'B'\n",
        "    elif 70 <= score <= 79:\n",
        "        grade = 'C'\n",
        "    else:\n",
        "        grade = 'E'\n",
        "    return grade\n",
        "\n",
        "score = int(input(\"請輸入成績：\"))\n",
        "print(\"成績等級為：\", check_grade(score))"
      ],
      "metadata": {
        "colab": {
          "base_uri": "https://localhost:8080/"
        },
        "id": "SOt1oZBNenCE",
        "outputId": "aa97b4a4-fb09-4fea-f2ab-498bfc0f876c"
      },
      "execution_count": 2,
      "outputs": [
        {
          "output_type": "stream",
          "name": "stdout",
          "text": [
            "請輸入成績：69\n",
            "成績等級為： E\n"
          ]
        }
      ]
    },
    {
      "cell_type": "code",
      "source": [
        "def check_season(month):\n",
        "    if month in [3, 4, 5]:\n",
        "        season = \"春天\"\n",
        "    elif month in [6, 7, 8]:\n",
        "        season = \"夏天\"\n",
        "    elif month in [9, 10, 11]:\n",
        "        season = \"秋天\"\n",
        "    elif month in [12, 1, 2]:\n",
        "        season = \"冬天\"\n",
        "    else:\n",
        "        season = \"月份不在範圍內\"\n",
        "    print(\"{}月是{}\".format(month, season))\n",
        "\n",
        "month = int(input(\"請輸入月份（1-12）：\"))\n",
        "check_season(month)"
      ],
      "metadata": {
        "colab": {
          "base_uri": "https://localhost:8080/"
        },
        "id": "umYbQAUQenMZ",
        "outputId": "7e5094d0-2e46-4fb2-c273-9956d8f80749"
      },
      "execution_count": 3,
      "outputs": [
        {
          "output_type": "stream",
          "name": "stdout",
          "text": [
            "請輸入月份（1-12）：6\n",
            "6月是夏天\n"
          ]
        }
      ]
    },
    {
      "cell_type": "markdown",
      "source": [],
      "metadata": {
        "id": "D2CAnchxfzt4"
      }
    }
  ]
}