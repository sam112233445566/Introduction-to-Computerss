{
  "nbformat": 4,
  "nbformat_minor": 0,
  "metadata": {
    "colab": {
      "provenance": [],
      "authorship_tag": "ABX9TyN61EpSxI+Qu5WntreLXUNV",
      "include_colab_link": true
    },
    "kernelspec": {
      "name": "python3",
      "display_name": "Python 3"
    },
    "language_info": {
      "name": "python"
    }
  },
  "cells": [
    {
      "cell_type": "markdown",
      "metadata": {
        "id": "view-in-github",
        "colab_type": "text"
      },
      "source": [
        "<a href=\"https://colab.research.google.com/github/sam112233445566/Introduction-to-Computerss/blob/main/Untitled9.ipynb\" target=\"_parent\"><img src=\"https://colab.research.google.com/assets/colab-badge.svg\" alt=\"Open In Colab\"/></a>"
      ]
    },
    {
      "cell_type": "code",
      "execution_count": 1,
      "metadata": {
        "colab": {
          "base_uri": "https://localhost:8080/"
        },
        "id": "VkeU-Ut8BMn7",
        "outputId": "ef3dd126-f31d-45de-d3ef-f9dffb492063"
      },
      "outputs": [
        {
          "output_type": "stream",
          "name": "stdout",
          "text": [
            "0501\n"
          ]
        }
      ],
      "source": [
        "print(\"0501\")"
      ]
    },
    {
      "cell_type": "code",
      "source": [
        "score=int(input(\"請輸入成績\"))\n",
        "if(score>=60):\n",
        "      print(\"及格\")"
      ],
      "metadata": {
        "colab": {
          "base_uri": "https://localhost:8080/"
        },
        "id": "oouAbdecBojQ",
        "outputId": "a8a29888-19e3-42cf-efa2-776c6075a329"
      },
      "execution_count": 3,
      "outputs": [
        {
          "output_type": "stream",
          "name": "stdout",
          "text": [
            "請輸入成績70\n",
            "及格\n"
          ]
        }
      ]
    },
    {
      "cell_type": "code",
      "source": [
        "數學=60\n",
        "英文=70\n",
        "if 數學>英文:\n",
        "  print(\"數學比較高\")\n",
        "else:\n",
        "  print(\"英文比較高\")"
      ],
      "metadata": {
        "colab": {
          "base_uri": "https://localhost:8080/"
        },
        "id": "bloousLXBolC",
        "outputId": "8c31b8c2-7ae7-400a-d091-d9b26c3a80da"
      },
      "execution_count": 6,
      "outputs": [
        {
          "output_type": "stream",
          "name": "stdout",
          "text": [
            "英文比較高\n"
          ]
        }
      ]
    },
    {
      "cell_type": "code",
      "source": [
        "Password = input(\"請輸入密碼: \")\n",
        "if Password == \"1234\":\n",
        "    print(\"密碼正確\")\n",
        "else:\n",
        "    print(\"密碼錯誤\")\n"
      ],
      "metadata": {
        "colab": {
          "base_uri": "https://localhost:8080/"
        },
        "id": "pt7La8YZBomo",
        "outputId": "3479ca64-bc12-4025-fb43-fb22e64d4f5f"
      },
      "execution_count": 13,
      "outputs": [
        {
          "output_type": "stream",
          "name": "stdout",
          "text": [
            "請輸入密碼: 1111\n",
            "密碼錯誤\n"
          ]
        }
      ]
    },
    {
      "cell_type": "code",
      "source": [
        "rain = input(\"今天會下雨嗎? (請輸入 Y 或 y 表示是，其他表示否): \")\n",
        "if rain == \"Y\" or rain == \"y\":\n",
        "    print(\"出門記得帶傘\")\n",
        "else:\n",
        "   print(\"不用帶傘\")"
      ],
      "metadata": {
        "colab": {
          "base_uri": "https://localhost:8080/"
        },
        "id": "onrT5e6zD_HG",
        "outputId": "bf5dde33-01b3-4750-acb8-9b57ed0ce909"
      },
      "execution_count": 16,
      "outputs": [
        {
          "output_type": "stream",
          "name": "stdout",
          "text": [
            "今天會下雨嗎? (請輸入 Y 或 y 表示是，其他表示否): s\n",
            "不用帶傘\n"
          ]
        }
      ]
    },
    {
      "cell_type": "code",
      "source": [
        "num = int(input(\"請輸入一個整數: \"))\n",
        "\n",
        "if num % 2 == 0:\n",
        "    print(f\"{num} 是偶數\")\n",
        "else:\n",
        "    print(f\"{num} 是奇數\")"
      ],
      "metadata": {
        "colab": {
          "base_uri": "https://localhost:8080/"
        },
        "id": "2s_Vdt2SD_JX",
        "outputId": "01795123-3394-441e-d03e-5aed1e0f0695"
      },
      "execution_count": 18,
      "outputs": [
        {
          "output_type": "stream",
          "name": "stdout",
          "text": [
            "請輸入一個整數: 2\n",
            "2 是偶數\n"
          ]
        }
      ]
    }
  ]
}